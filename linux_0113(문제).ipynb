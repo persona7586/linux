{
  "cells": [
    {
      "cell_type": "markdown",
      "metadata": {
        "id": "view-in-github",
        "colab_type": "text"
      },
      "source": [
        "<a href=\"https://colab.research.google.com/github/persona7586/linux/blob/main/linux_0113(%E1%84%86%E1%85%AE%E1%86%AB%E1%84%8C%E1%85%A6).ipynb\" target=\"_parent\"><img src=\"https://colab.research.google.com/assets/colab-badge.svg\" alt=\"Open In Colab\"/></a>"
      ]
    },
    {
      "cell_type": "markdown",
      "metadata": {
        "id": "DnR-McwqQY0r"
      },
      "source": [
        "문제1. oz라는 폴더가 있다는 가정하에 oz 폴더의 위치를 찾는 명령어를 작성해주세요"
      ]
    },
    {
      "cell_type": "code",
      "source": [
        "which oz"
      ],
      "metadata": {
        "id": "SDOeff5MQdRG"
      },
      "execution_count": null,
      "outputs": []
    },
    {
      "cell_type": "markdown",
      "metadata": {
        "id": "2qGPaXMPQY0t"
      },
      "source": [
        "문제2. 문제 2: 2024년 5월의 달력을 화면에 보여주는 리눅스 명령어를 작성해주세요"
      ]
    },
    {
      "cell_type": "code",
      "source": [
        "cal 5 2024"
      ],
      "metadata": {
        "id": "QDzMrK6qQdnt"
      },
      "execution_count": null,
      "outputs": []
    },
    {
      "cell_type": "markdown",
      "metadata": {
        "id": "yRbpzK1NQY0t"
      },
      "source": [
        "문제 3: echo 명령어를 이용해 oz.txt라는 파일을 생성하고 파일안에 “Hello Linux”라는 내용이 들어갈 수 있도록 리눅스 명령어를 작성해주세요"
      ]
    },
    {
      "cell_type": "code",
      "source": [
        "echo \"Hello Linux\" > oz.txt"
      ],
      "metadata": {
        "id": "U7nZRyi8Qd4V"
      },
      "execution_count": null,
      "outputs": []
    },
    {
      "cell_type": "markdown",
      "metadata": {
        "id": "89fl8Q3zQY0u"
      },
      "source": [
        "문제 4 : 다음과 같은 명령어가 주어졌을 때, 그 결과로 무엇이 기대되는지 맞춰보세요.\n",
        "\n",
        "```bash\n",
        "echo \"apple banana orange\" | xargs -n 1 echo\n",
        "```"
      ]
    },
    {
      "cell_type": "code",
      "source": [
        "apple\n",
        "banana\n",
        "orange\n",
        "\n",
        "\"\"\"\n",
        "echo : 문자열 출력 기본 명령어\n",
        "echo \"~~\" : 큰따옴표 안에 내용은 echo 명령어에 전달되는 문자열에 해당\n",
        "| : 파이프라고 부르며 리눅스에서 두 개의 명령어를 연결하는 역할을 함, 왼쪽의 명령어의 출력(output)을 오른쪽 명령어의 입력(input)으로 전달\n",
        "    여기서 echo의 출력인 apple banana orange를 |의 오른쪽에 있는 xargs 명령어의 입력(input)으로 전달시킴\n",
        "xargs : 표준 입력을 받아 해당되는 데이터를 인자로 전달해서 다른 명령어를 실행하는 유틸리티\n",
        "-n 1 : 각 항목을 하나씩 인자로 사용해서 명령어를 실행하는 옵션\n",
        "xargs -n 1 : xargs는 apple, banana, orange라는 각 단어를 하나씩 분리해서 오른쪽에 있는 echo 명령어에 전달\n",
        "각 단어를 하나씩 분리해서 echo로 출력한 모습\n",
        "첫 번째) echo : apple\n",
        "두 번째) echo : banana\n",
        "세 번째) echo : orange\n",
        "\"\"\""
      ],
      "metadata": {
        "id": "H_Y6aZh9HOWL"
      },
      "execution_count": null,
      "outputs": []
    },
    {
      "cell_type": "markdown",
      "metadata": {
        "id": "EZREq-7QQY0u"
      },
      "source": [
        "문제 5: 아래와 같은 순서로 명령어가 입력 되었을때 4번째 명령어를 다시 사용하기 위한 리눅스 명령어를 작성해주세요\n",
        "\n",
        "1. echo oz\n",
        "2. Clear\n",
        "3. History\n",
        "4. Cal\n",
        "5. Clear\n",
        "6. which oz\n"
      ]
    },
    {
      "cell_type": "code",
      "source": [
        "!4"
      ],
      "metadata": {
        "id": "JUuVrH5wJsJm"
      },
      "execution_count": null,
      "outputs": []
    },
    {
      "cell_type": "markdown",
      "metadata": {
        "id": "4RiuGYHdQY0u"
      },
      "source": [
        "문제6. 아래 설명 중 틀린 내용을 모두 골라주세요\n",
        "\n",
        "1. CommandNames 들은 쉘의 검색 PATH 안에 있어야 합니다.\n",
        "2. 쉘은 터미널을 통해 명령이 제출될 때 명령의 의미를 해석하는 것입니다.\n",
        "3. Linux 명령은 CommandName -options input 구조를 따릅니다.\n",
        "4. 일부 명령에는 짧은 형식 옵션만 사용할 수 있습니다.\n",
        "5. 긴 형식 옵션에는 대시 1개 (-)가 있고 짧은 형식 옵션에는 대시 2개(--)가 있습니다."
      ]
    },
    {
      "cell_type": "code",
      "source": [
        "5\n",
        "\n",
        "\"\"\"\n",
        "1. CommandNames 들은 쉘의 검색 PATH안에 있어야 한다.\n",
        "2.쉘은 터미널을 통해 명령이 제출될 때 명령의 의미를 해석하는 것이다.\n",
        "3.Linux 명령은 CommandName - options - input 구조를 따른다.\n",
        "4. 대부분의 현대적인 명령어는 짧은 옵션과 긴 옵션을 둘 다 지원한다.\n",
        "   그러나, 일부 오래된 명령어나 시스템 관리 도구들은 오래된 유닉스 시스템에서 작업을 빠르게 할 수 있도록 설계 되어 있으며\n",
        "   긴 옵션을 처리할 만큼 복잡하지 않거나 긴 옵션을 추가하는 것이 불필요한 것들이 존재한다. 이런 경우 짧은 형식 옵션만을 제공하기도 한다.\n",
        "   ex) ls -l : 긴형식 --long 지원X, cp -r : --recursive 지원X\n",
        "5. 긴 형식 옵션은 대시가 2개 -- ex) --name, --file\n",
        "   짧은 형식 옵션에는 대시가 1개 - ex) -a, -n\n",
        "\"\"\""
      ],
      "metadata": {
        "id": "_ORg1l9LJ6BK"
      },
      "execution_count": null,
      "outputs": []
    },
    {
      "cell_type": "markdown",
      "metadata": {
        "id": "hv2O9IPpQY0u"
      },
      "source": [
        "문제7. Piping에 대한 설명으로 옳은것을 골라주세요\n",
        "\n",
        "1. 한 명령의 표준 출력을 다른 명령의 표준 입력에 연결하는 것이다\n",
        "2. 네트워크 연결 여부를 확인하는 명령어다\n",
        "3. 입력된 데이터를 모아 한번에 저장하기 위해 사용되는 명령어다\n",
        "4. 삭제된 파일 목록을 확인하기 위한 명령어다"
      ]
    },
    {
      "cell_type": "code",
      "source": [
        "1\n",
        "\n",
        "\"\"\"\n",
        "1. 파이핑 Piping (|) : 명령어의 출력을 다른 명령어의 입력으로 전달하는 방법, 여러 명령어를 조합해서 복잡한 작업을 효율적으로 수행하는데 적합\n",
        "2. 리눅스에서 네트워크 연결 여부를 확인하는 방법\n",
        "   ping 명령어 : 외부 서버에 요청\n",
        "   ifconfig : 네트워크 인터페이스 상태 확인\n",
        "   ip a : 네트워크 인터페이스와 IP 주소 정보를 제공\n",
        "   nmcli : 네트워크 연결 상태, 각 네트워크 장치 상태 확인\n",
        "3. 리눅스에서 데이터를 모아 한번에 저장하기 위한 명령어\n",
        "   1) > 단일 리디렉션 : 명령어 출력을 파일에 저장할 때 사용, 이 때 파일을 새로 생성하거나 이미 존재하는 것에 내용을 덮어쓰는 방법으로 저장\n",
        "   2) >> 덧붙이기 리디렉션 : 파일에 데이터를 덧붙이기 위해 사용, 파일이 존재하면 기존 내용 뒤에 새로운 데이터를 추가하는 방법으로 저장\n",
        "   3) tee 명령어 : 입력된 text를 파일에 저장하고, 텍스트를 화면에 출력해줌\n",
        "4. 리눅스에 삭제된 파일을 추적하는 명령어는 없음\n",
        "   파일 삭제 추적에는 사전 설정이 필요하고 추적하거나 복구할 수 있는 방법에는 auditd, extundelete, testdisk등을 활용할 수는 있음\n",
        "\"\"\""
      ],
      "metadata": {
        "id": "8P4EDcWzOjD5"
      },
      "execution_count": null,
      "outputs": []
    },
    {
      "cell_type": "markdown",
      "metadata": {
        "id": "J9YXaQFTQY0v"
      },
      "source": [
        "문제8. \"example.txt\" 파일에 \"Hello, world!\"라는 문자열을 기록하고, 동시에 터미널에도 출력하려고 합니다. 올바른 tee 명령어를 작성하세요."
      ]
    },
    {
      "cell_type": "code",
      "source": [
        "echo \"Hello, World!\" | tee example.txt\n",
        "#tee 명령어 : 입력된 text를 파일에 저장하고, 텍스트를 화면에 출력해줌"
      ],
      "metadata": {
        "id": "r5PI6DZQOj4o"
      },
      "execution_count": null,
      "outputs": []
    },
    {
      "cell_type": "markdown",
      "metadata": {
        "id": "rhtjdbn8QY0v"
      },
      "source": [
        "문제9. 파이프라인과 명령을 기억하기 쉬운 별명으로 저장하기 위해 사용하는 명령어를 골라주세요\n",
        "\n",
        "1. Aliases\n",
        "2. Set\n",
        "3. Reference\n",
        "4. TEE\n",
        "5. xargs"
      ]
    },
    {
      "cell_type": "code",
      "source": [
        "1. Aliases\n",
        "# Alias : 리눅스에서 명령어 단축과 편의성을 제공하는 도구, 이를 통해 명령어를 효율적으로 관리할 수 있고, 자주 사용하는 명령어를 기억하지 않고도 활용할 수 있음"
      ],
      "metadata": {
        "id": "LhePpUhVckZo"
      },
      "execution_count": null,
      "outputs": []
    },
    {
      "cell_type": "markdown",
      "metadata": {
        "id": "RQiaMmSlQY0v"
      },
      "source": [
        "문제10. 현재 디렉토리에 여러개의 `.txt` 파일이 있다고 가정해봅시다. 다른 파일은 남기고 `.txt`로 끝나는 파일들만 삭제하기 위해 작성해야 하는 명령어를 작성해보세요"
      ]
    },
    {
      "cell_type": "code",
      "source": [
        "rm *txt\n",
        "\n",
        "\"\"\"\n",
        "rm은 remove의 약자로 파일을 삭제하는 명령어\n",
        "*txt에서 *은 모든 문자열을 의미하고 뒤로 오는 txt는 txt로 끝나는 모든 파일일 의미\n",
        "\"\"\""
      ],
      "metadata": {
        "id": "Q22f8vIcdlQW"
      },
      "execution_count": null,
      "outputs": []
    }
  ],
  "metadata": {
    "language_info": {
      "name": "python"
    },
    "colab": {
      "provenance": [],
      "include_colab_link": true
    },
    "kernelspec": {
      "name": "python3",
      "display_name": "Python 3"
    }
  },
  "nbformat": 4,
  "nbformat_minor": 0
}